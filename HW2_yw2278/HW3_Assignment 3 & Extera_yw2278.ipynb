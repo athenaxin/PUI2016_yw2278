{
 "cells": [
  {
   "cell_type": "code",
   "execution_count": 160,
   "metadata": {
    "collapsed": false,
    "scrolled": true
   },
   "outputs": [
    {
     "name": "stdout",
     "output_type": "stream",
     "text": [
      "Populating the interactive namespace from numpy and matplotlib\n"
     ]
    }
   ],
   "source": [
    "import os \n",
    "import sys\n",
    "import numpy as np \n",
    "import pandas as pd\n",
    "import pylab as pl\n",
    "import datetime \n",
    "from matplotlib.dates import date2num\n",
    "%pylab inline"
   ]
  },
  {
   "cell_type": "code",
   "execution_count": 8,
   "metadata": {
    "collapsed": false
   },
   "outputs": [],
   "source": [
    "path1 = os.getenv(\"DFDATA\")"
   ]
  },
  {
   "cell_type": "code",
   "execution_count": 14,
   "metadata": {
    "collapsed": false
   },
   "outputs": [
    {
     "data": {
      "text/plain": [
       "'/gws/open/NYCOpenData/nycopendata/data'"
      ]
     },
     "execution_count": 14,
     "metadata": {},
     "output_type": "execute_result"
    }
   ],
   "source": [
    "path1"
   ]
  },
  {
   "cell_type": "code",
   "execution_count": 16,
   "metadata": {
    "collapsed": true
   },
   "outputs": [],
   "source": [
    "path2=r'dvm6-udsa/1473437627/dvm6-udsa.csv'"
   ]
  },
  {
   "cell_type": "code",
   "execution_count": 217,
   "metadata": {
    "collapsed": false
   },
   "outputs": [],
   "source": [
    "data=pd.read_csv(path1+'/'+path2,parse_dates=['Violation Date'])"
   ]
  },
  {
   "cell_type": "code",
   "execution_count": 218,
   "metadata": {
    "collapsed": false
   },
   "outputs": [
    {
     "data": {
      "text/html": [
       "<div>\n",
       "<table border=\"1\" class=\"dataframe\">\n",
       "  <thead>\n",
       "    <tr style=\"text-align: right;\">\n",
       "      <th></th>\n",
       "      <th>Ticket Number</th>\n",
       "      <th>Violation Date</th>\n",
       "      <th>Violation Time</th>\n",
       "      <th>Issuing Agency</th>\n",
       "      <th>Respondent Last Name</th>\n",
       "      <th>Respondent First Name</th>\n",
       "      <th>Balance Due</th>\n",
       "      <th>Violation Location (Borough)</th>\n",
       "      <th>Violation Location (Block No.)</th>\n",
       "      <th>Violation Location (Lot No.)</th>\n",
       "      <th>...</th>\n",
       "      <th>Compliance Status</th>\n",
       "      <th>Violation Description</th>\n",
       "      <th>Charge #1: Code</th>\n",
       "      <th>Charge #1: Code Section</th>\n",
       "      <th>Charge #1: Code Description</th>\n",
       "      <th>Charge #1: Infraction Amount</th>\n",
       "      <th>Charge #2: Code</th>\n",
       "      <th>Charge #2: Code Section</th>\n",
       "      <th>Charge #2: Code Description</th>\n",
       "      <th>Charge #2: Infraction Amount</th>\n",
       "    </tr>\n",
       "  </thead>\n",
       "  <tbody>\n",
       "    <tr>\n",
       "      <th>0</th>\n",
       "      <td>040445863X</td>\n",
       "      <td>2012-12-22</td>\n",
       "      <td>01:46:00</td>\n",
       "      <td>SANITATION POLICE</td>\n",
       "      <td>ADERDOR</td>\n",
       "      <td>SAID</td>\n",
       "      <td>$385.00</td>\n",
       "      <td>MANHATTAN</td>\n",
       "      <td>NaN</td>\n",
       "      <td>NaN</td>\n",
       "      <td>...</td>\n",
       "      <td>Penalty Due</td>\n",
       "      <td>NaN</td>\n",
       "      <td>AH3G</td>\n",
       "      <td>H.C. 89.25 A</td>\n",
       "      <td>IMPROPER GARBAGE COLLECTION AND OR DISPOSAL</td>\n",
       "      <td>$385.00</td>\n",
       "      <td>NaN</td>\n",
       "      <td>NaN</td>\n",
       "      <td>NaN</td>\n",
       "      <td>NaN</td>\n",
       "    </tr>\n",
       "    <tr>\n",
       "      <th>1</th>\n",
       "      <td>040426052Z</td>\n",
       "      <td>2012-07-09</td>\n",
       "      <td>03:38:00</td>\n",
       "      <td>SANITATION POLICE</td>\n",
       "      <td>RYAD</td>\n",
       "      <td>MAGDY</td>\n",
       "      <td>$0.00</td>\n",
       "      <td>MANHATTAN</td>\n",
       "      <td>NaN</td>\n",
       "      <td>NaN</td>\n",
       "      <td>...</td>\n",
       "      <td>All Terms Met</td>\n",
       "      <td>NaN</td>\n",
       "      <td>AH3G</td>\n",
       "      <td>H.C. 89.25 A</td>\n",
       "      <td>IMPROPER GARBAGE COLLECTION AND OR DISPOSAL</td>\n",
       "      <td>$385.00</td>\n",
       "      <td>NaN</td>\n",
       "      <td>NaN</td>\n",
       "      <td>NaN</td>\n",
       "      <td>NaN</td>\n",
       "    </tr>\n",
       "    <tr>\n",
       "      <th>2</th>\n",
       "      <td>040380790J</td>\n",
       "      <td>2007-05-10</td>\n",
       "      <td>12:27:00</td>\n",
       "      <td>SANITATION RECYCLING</td>\n",
       "      <td>COMPUTIME INC PROFIT</td>\n",
       "      <td>NaN</td>\n",
       "      <td>$0.00</td>\n",
       "      <td>BROOKLYN</td>\n",
       "      <td>1992.0</td>\n",
       "      <td>24.0</td>\n",
       "      <td>...</td>\n",
       "      <td>All Terms Met</td>\n",
       "      <td>NaN</td>\n",
       "      <td>AH50</td>\n",
       "      <td>H.C. 151.03 A</td>\n",
       "      <td>RAT INFESTATION</td>\n",
       "      <td>$200.00</td>\n",
       "      <td>NaN</td>\n",
       "      <td>NaN</td>\n",
       "      <td>NaN</td>\n",
       "      <td>NaN</td>\n",
       "    </tr>\n",
       "    <tr>\n",
       "      <th>3</th>\n",
       "      <td>040491275R</td>\n",
       "      <td>2007-07-11</td>\n",
       "      <td>16:27:00</td>\n",
       "      <td>SANITATION POLICE</td>\n",
       "      <td>509 CHAUNCEY LLC</td>\n",
       "      <td>NaN</td>\n",
       "      <td>$0.00</td>\n",
       "      <td>BROOKLYN</td>\n",
       "      <td>1511.0</td>\n",
       "      <td>71.0</td>\n",
       "      <td>...</td>\n",
       "      <td>All Terms Met</td>\n",
       "      <td>NaN</td>\n",
       "      <td>AH50</td>\n",
       "      <td>H.C. 151.03 A</td>\n",
       "      <td>RAT INFESTATION</td>\n",
       "      <td>$200.00</td>\n",
       "      <td>NaN</td>\n",
       "      <td>NaN</td>\n",
       "      <td>NaN</td>\n",
       "      <td>NaN</td>\n",
       "    </tr>\n",
       "    <tr>\n",
       "      <th>4</th>\n",
       "      <td>040494029P</td>\n",
       "      <td>2009-02-18</td>\n",
       "      <td>09:42:00</td>\n",
       "      <td>SANITATION RECYCLING</td>\n",
       "      <td>ALI</td>\n",
       "      <td>SHEHZAD ANWAR</td>\n",
       "      <td>$0.00</td>\n",
       "      <td>BROOKLYN</td>\n",
       "      <td>3187.0</td>\n",
       "      <td>38.0</td>\n",
       "      <td>...</td>\n",
       "      <td>All Terms Met</td>\n",
       "      <td>NaN</td>\n",
       "      <td>AH50</td>\n",
       "      <td>H.C. 151.03 A</td>\n",
       "      <td>RAT INFESTATION</td>\n",
       "      <td>$200.00</td>\n",
       "      <td>NaN</td>\n",
       "      <td>NaN</td>\n",
       "      <td>NaN</td>\n",
       "      <td>NaN</td>\n",
       "    </tr>\n",
       "  </tbody>\n",
       "</table>\n",
       "<p>5 rows × 46 columns</p>\n",
       "</div>"
      ],
      "text/plain": [
       "  Ticket Number Violation Date Violation Time        Issuing Agency  \\\n",
       "0    040445863X     2012-12-22       01:46:00     SANITATION POLICE   \n",
       "1    040426052Z     2012-07-09       03:38:00     SANITATION POLICE   \n",
       "2    040380790J     2007-05-10       12:27:00  SANITATION RECYCLING   \n",
       "3    040491275R     2007-07-11       16:27:00     SANITATION POLICE   \n",
       "4    040494029P     2009-02-18       09:42:00  SANITATION RECYCLING   \n",
       "\n",
       "   Respondent Last Name Respondent First Name Balance Due  \\\n",
       "0               ADERDOR                  SAID     $385.00   \n",
       "1                  RYAD                 MAGDY       $0.00   \n",
       "2  COMPUTIME INC PROFIT                   NaN       $0.00   \n",
       "3      509 CHAUNCEY LLC                   NaN       $0.00   \n",
       "4                   ALI         SHEHZAD ANWAR       $0.00   \n",
       "\n",
       "  Violation Location (Borough)  Violation Location (Block No.)  \\\n",
       "0                    MANHATTAN                             NaN   \n",
       "1                    MANHATTAN                             NaN   \n",
       "2                     BROOKLYN                          1992.0   \n",
       "3                     BROOKLYN                          1511.0   \n",
       "4                     BROOKLYN                          3187.0   \n",
       "\n",
       "   Violation Location (Lot No.)             ...               \\\n",
       "0                           NaN             ...                \n",
       "1                           NaN             ...                \n",
       "2                          24.0             ...                \n",
       "3                          71.0             ...                \n",
       "4                          38.0             ...                \n",
       "\n",
       "  Compliance Status Violation Description  Charge #1: Code  \\\n",
       "0       Penalty Due                   NaN             AH3G   \n",
       "1     All Terms Met                   NaN             AH3G   \n",
       "2     All Terms Met                   NaN             AH50   \n",
       "3     All Terms Met                   NaN             AH50   \n",
       "4     All Terms Met                   NaN             AH50   \n",
       "\n",
       "  Charge #1: Code Section                  Charge #1: Code Description  \\\n",
       "0            H.C. 89.25 A  IMPROPER GARBAGE COLLECTION AND OR DISPOSAL   \n",
       "1            H.C. 89.25 A  IMPROPER GARBAGE COLLECTION AND OR DISPOSAL   \n",
       "2           H.C. 151.03 A                              RAT INFESTATION   \n",
       "3           H.C. 151.03 A                              RAT INFESTATION   \n",
       "4           H.C. 151.03 A                              RAT INFESTATION   \n",
       "\n",
       "  Charge #1: Infraction Amount Charge #2: Code Charge #2: Code Section  \\\n",
       "0                      $385.00             NaN                     NaN   \n",
       "1                      $385.00             NaN                     NaN   \n",
       "2                      $200.00             NaN                     NaN   \n",
       "3                      $200.00             NaN                     NaN   \n",
       "4                      $200.00             NaN                     NaN   \n",
       "\n",
       "  Charge #2: Code Description Charge #2: Infraction Amount  \n",
       "0                         NaN                          NaN  \n",
       "1                         NaN                          NaN  \n",
       "2                         NaN                          NaN  \n",
       "3                         NaN                          NaN  \n",
       "4                         NaN                          NaN  \n",
       "\n",
       "[5 rows x 46 columns]"
      ]
     },
     "execution_count": 218,
     "metadata": {},
     "output_type": "execute_result"
    }
   ],
   "source": [
    "data.head()"
   ]
  },
  {
   "cell_type": "markdown",
   "metadata": {},
   "source": [
    "## Assignment 3"
   ]
  },
  {
   "cell_type": "code",
   "execution_count": 219,
   "metadata": {
    "collapsed": false
   },
   "outputs": [],
   "source": [
    "data_part_1 = data[['Violation Location (Block No.)','Violation Location (Lot No.)']]"
   ]
  },
  {
   "cell_type": "code",
   "execution_count": 220,
   "metadata": {
    "collapsed": true
   },
   "outputs": [],
   "source": [
    "data_part_1.columns = ['Block','Lot']"
   ]
  },
  {
   "cell_type": "code",
   "execution_count": 221,
   "metadata": {
    "collapsed": false
   },
   "outputs": [
    {
     "data": {
      "text/html": [
       "<div>\n",
       "<table border=\"1\" class=\"dataframe\">\n",
       "  <thead>\n",
       "    <tr style=\"text-align: right;\">\n",
       "      <th></th>\n",
       "      <th>Block</th>\n",
       "      <th>Lot</th>\n",
       "    </tr>\n",
       "  </thead>\n",
       "  <tbody>\n",
       "    <tr>\n",
       "      <th>0</th>\n",
       "      <td>NaN</td>\n",
       "      <td>NaN</td>\n",
       "    </tr>\n",
       "    <tr>\n",
       "      <th>1</th>\n",
       "      <td>NaN</td>\n",
       "      <td>NaN</td>\n",
       "    </tr>\n",
       "    <tr>\n",
       "      <th>2</th>\n",
       "      <td>1992.0</td>\n",
       "      <td>24.0</td>\n",
       "    </tr>\n",
       "    <tr>\n",
       "      <th>3</th>\n",
       "      <td>1511.0</td>\n",
       "      <td>71.0</td>\n",
       "    </tr>\n",
       "    <tr>\n",
       "      <th>4</th>\n",
       "      <td>3187.0</td>\n",
       "      <td>38.0</td>\n",
       "    </tr>\n",
       "  </tbody>\n",
       "</table>\n",
       "</div>"
      ],
      "text/plain": [
       "    Block   Lot\n",
       "0     NaN   NaN\n",
       "1     NaN   NaN\n",
       "2  1992.0  24.0\n",
       "3  1511.0  71.0\n",
       "4  3187.0  38.0"
      ]
     },
     "execution_count": 221,
     "metadata": {},
     "output_type": "execute_result"
    }
   ],
   "source": [
    "data_part_1.head()"
   ]
  },
  {
   "cell_type": "code",
   "execution_count": 222,
   "metadata": {
    "collapsed": true
   },
   "outputs": [],
   "source": [
    "data_part_1 = data_part_1.dropna(how='all').reset_index(drop=True)"
   ]
  },
  {
   "cell_type": "code",
   "execution_count": 225,
   "metadata": {
    "collapsed": false
   },
   "outputs": [
    {
     "data": {
      "text/html": [
       "<div>\n",
       "<table border=\"1\" class=\"dataframe\">\n",
       "  <thead>\n",
       "    <tr style=\"text-align: right;\">\n",
       "      <th></th>\n",
       "      <th>Block</th>\n",
       "      <th>Lot</th>\n",
       "    </tr>\n",
       "  </thead>\n",
       "  <tbody>\n",
       "    <tr>\n",
       "      <th>0</th>\n",
       "      <td>1992.0</td>\n",
       "      <td>24.0</td>\n",
       "    </tr>\n",
       "    <tr>\n",
       "      <th>1</th>\n",
       "      <td>1511.0</td>\n",
       "      <td>71.0</td>\n",
       "    </tr>\n",
       "    <tr>\n",
       "      <th>2</th>\n",
       "      <td>3187.0</td>\n",
       "      <td>38.0</td>\n",
       "    </tr>\n",
       "    <tr>\n",
       "      <th>3</th>\n",
       "      <td>3173.0</td>\n",
       "      <td>15.0</td>\n",
       "    </tr>\n",
       "    <tr>\n",
       "      <th>4</th>\n",
       "      <td>3191.0</td>\n",
       "      <td>30.0</td>\n",
       "    </tr>\n",
       "  </tbody>\n",
       "</table>\n",
       "</div>"
      ],
      "text/plain": [
       "    Block   Lot\n",
       "0  1992.0  24.0\n",
       "1  1511.0  71.0\n",
       "2  3187.0  38.0\n",
       "3  3173.0  15.0\n",
       "4  3191.0  30.0"
      ]
     },
     "execution_count": 225,
     "metadata": {},
     "output_type": "execute_result"
    }
   ],
   "source": [
    "data_part_1.head()"
   ]
  },
  {
   "cell_type": "code",
   "execution_count": 228,
   "metadata": {
    "collapsed": false
   },
   "outputs": [
    {
     "data": {
      "text/plain": [
       "<matplotlib.text.Text at 0x7f008c5a9050>"
      ]
     },
     "execution_count": 228,
     "metadata": {},
     "output_type": "execute_result"
    },
    {
     "data": {
      "image/png": "[encoded data removed]",
      "text/plain": [
       "<matplotlib.figure.Figure at 0x7f007eae3410>"
      ]
     },
     "metadata": {},
     "output_type": "display_data"
    }
   ],
   "source": [
    "ax = data_part_1.plot.scatter(x='Block',y='Lot',alpha = 0.2)\n",
    "ax.set_title('Violation Location')"
   ]
  },
  {
   "cell_type": "markdown",
   "metadata": {},
   "source": [
    "## Extra point"
   ]
  },
  {
   "cell_type": "code",
   "execution_count": 215,
   "metadata": {
    "collapsed": true
   },
   "outputs": [],
   "source": [
    "data_part_2= data[['Violation Date','Charge #1: Infraction Amount']]"
   ]
  },
  {
   "cell_type": "code",
   "execution_count": 209,
   "metadata": {
    "collapsed": false
   },
   "outputs": [
    {
     "data": {
      "text/html": [
       "<div>\n",
       "<table border=\"1\" class=\"dataframe\">\n",
       "  <thead>\n",
       "    <tr style=\"text-align: right;\">\n",
       "      <th></th>\n",
       "      <th>Violation Date</th>\n",
       "      <th>Charge #1: Infraction Amount</th>\n",
       "    </tr>\n",
       "  </thead>\n",
       "  <tbody>\n",
       "    <tr>\n",
       "      <th>0</th>\n",
       "      <td>1960-08-02</td>\n",
       "      <td>500.0</td>\n",
       "    </tr>\n",
       "    <tr>\n",
       "      <th>1</th>\n",
       "      <td>1963-02-09</td>\n",
       "      <td>100.0</td>\n",
       "    </tr>\n",
       "    <tr>\n",
       "      <th>2</th>\n",
       "      <td>1977-10-05</td>\n",
       "      <td>0.0</td>\n",
       "    </tr>\n",
       "    <tr>\n",
       "      <th>3</th>\n",
       "      <td>1985-10-26</td>\n",
       "      <td>500.0</td>\n",
       "    </tr>\n",
       "    <tr>\n",
       "      <th>4</th>\n",
       "      <td>1988-01-09</td>\n",
       "      <td>0.0</td>\n",
       "    </tr>\n",
       "  </tbody>\n",
       "</table>\n",
       "</div>"
      ],
      "text/plain": [
       "  Violation Date  Charge #1: Infraction Amount\n",
       "0     1960-08-02                         500.0\n",
       "1     1963-02-09                         100.0\n",
       "2     1977-10-05                           0.0\n",
       "3     1985-10-26                         500.0\n",
       "4     1988-01-09                           0.0"
      ]
     },
     "execution_count": 209,
     "metadata": {},
     "output_type": "execute_result"
    }
   ],
   "source": [
    "data_part_2.head()"
   ]
  },
  {
   "cell_type": "code",
   "execution_count": null,
   "metadata": {
    "collapsed": true
   },
   "outputs": [],
   "source": [
    "data_part_2 = data_part_2.sort('Violation Date').reset_index(drop=True)"
   ]
  },
  {
   "cell_type": "code",
   "execution_count": null,
   "metadata": {
    "collapsed": true
   },
   "outputs": [],
   "source": [
    "data_part_2['Charge #1: Infraction Amount'] = data_part_2['Charge #1: Infraction Amount'].replace('[$]'\n",
    "                                                                    ,'',regex =  True).astype(float)"
   ]
  },
  {
   "cell_type": "code",
   "execution_count": null,
   "metadata": {
    "collapsed": true
   },
   "outputs": [],
   "source": [
    "data_part_2 = data_part_2.fillna(0)"
   ]
  },
  {
   "cell_type": "code",
   "execution_count": 210,
   "metadata": {
    "collapsed": false
   },
   "outputs": [
    {
     "data": {
      "text/html": [
       "<div>\n",
       "<table border=\"1\" class=\"dataframe\">\n",
       "  <thead>\n",
       "    <tr style=\"text-align: right;\">\n",
       "      <th></th>\n",
       "      <th>Violation Date</th>\n",
       "      <th>Charge #1: Infraction Amount</th>\n",
       "    </tr>\n",
       "  </thead>\n",
       "  <tbody>\n",
       "    <tr>\n",
       "      <th>0</th>\n",
       "      <td>1960-08-02</td>\n",
       "      <td>500.0</td>\n",
       "    </tr>\n",
       "    <tr>\n",
       "      <th>1</th>\n",
       "      <td>1963-02-09</td>\n",
       "      <td>100.0</td>\n",
       "    </tr>\n",
       "    <tr>\n",
       "      <th>2</th>\n",
       "      <td>1977-10-05</td>\n",
       "      <td>0.0</td>\n",
       "    </tr>\n",
       "    <tr>\n",
       "      <th>3</th>\n",
       "      <td>1985-10-26</td>\n",
       "      <td>500.0</td>\n",
       "    </tr>\n",
       "    <tr>\n",
       "      <th>4</th>\n",
       "      <td>1988-01-09</td>\n",
       "      <td>0.0</td>\n",
       "    </tr>\n",
       "  </tbody>\n",
       "</table>\n",
       "</div>"
      ],
      "text/plain": [
       "  Violation Date  Charge #1: Infraction Amount\n",
       "0     1960-08-02                         500.0\n",
       "1     1963-02-09                         100.0\n",
       "2     1977-10-05                           0.0\n",
       "3     1985-10-26                         500.0\n",
       "4     1988-01-09                           0.0"
      ]
     },
     "execution_count": 210,
     "metadata": {},
     "output_type": "execute_result"
    }
   ],
   "source": [
    "data_part_2.head()"
   ]
  },
  {
   "cell_type": "code",
   "execution_count": null,
   "metadata": {
    "collapsed": true
   },
   "outputs": [],
   "source": [
    "data_part_2['Violation Date']=data_part_2['Violation Date'].apply(lambda x: x.date())"
   ]
  },
  {
   "cell_type": "code",
   "execution_count": 211,
   "metadata": {
    "collapsed": true
   },
   "outputs": [],
   "source": [
    "data_part_2.columns = ['Date','Charge']"
   ]
  },
  {
   "cell_type": "code",
   "execution_count": 212,
   "metadata": {
    "collapsed": false
   },
   "outputs": [
    {
     "data": {
      "text/html": [
       "<div>\n",
       "<table border=\"1\" class=\"dataframe\">\n",
       "  <thead>\n",
       "    <tr style=\"text-align: right;\">\n",
       "      <th></th>\n",
       "      <th>Date</th>\n",
       "      <th>Charge</th>\n",
       "    </tr>\n",
       "  </thead>\n",
       "  <tbody>\n",
       "    <tr>\n",
       "      <th>0</th>\n",
       "      <td>1960-08-02</td>\n",
       "      <td>500.0</td>\n",
       "    </tr>\n",
       "    <tr>\n",
       "      <th>1</th>\n",
       "      <td>1963-02-09</td>\n",
       "      <td>100.0</td>\n",
       "    </tr>\n",
       "    <tr>\n",
       "      <th>2</th>\n",
       "      <td>1977-10-05</td>\n",
       "      <td>0.0</td>\n",
       "    </tr>\n",
       "    <tr>\n",
       "      <th>3</th>\n",
       "      <td>1985-10-26</td>\n",
       "      <td>500.0</td>\n",
       "    </tr>\n",
       "    <tr>\n",
       "      <th>4</th>\n",
       "      <td>1988-01-09</td>\n",
       "      <td>0.0</td>\n",
       "    </tr>\n",
       "  </tbody>\n",
       "</table>\n",
       "</div>"
      ],
      "text/plain": [
       "         Date  Charge\n",
       "0  1960-08-02   500.0\n",
       "1  1963-02-09   100.0\n",
       "2  1977-10-05     0.0\n",
       "3  1985-10-26   500.0\n",
       "4  1988-01-09     0.0"
      ]
     },
     "execution_count": 212,
     "metadata": {},
     "output_type": "execute_result"
    }
   ],
   "source": [
    "data_part_2.head()"
   ]
  },
  {
   "cell_type": "code",
   "execution_count": 207,
   "metadata": {
    "collapsed": false,
    "scrolled": false
   },
   "outputs": [
    {
     "data": {
      "text/plain": [
       "<matplotlib.text.Text at 0x7f0088c8ea10>"
      ]
     },
     "execution_count": 207,
     "metadata": {},
     "output_type": "execute_result"
    },
    {
     "data": {
      "image/png": "[encoded data removed]",
      "text/plain": [
       "<matplotlib.figure.Figure at 0x7f0080a817d0>"
      ]
     },
     "metadata": {},
     "output_type": "display_data"
    }
   ],
   "source": [
    "ax = data_part_2.plot(x = 'Date',y = 'Charge',alpha = 0.2, rot = 90)\n",
    "ax.set_title(\"Violation Fine\")"
   ]
  }
 ],
 "metadata": {
  "kernelspec": {
   "display_name": "PUI2016_Python2",
   "language": "python",
   "name": "pui2016_python2"
  },
  "language_info": {
   "codemirror_mode": {
    "name": "ipython",
    "version": 2
   },
   "file_extension": ".py",
   "mimetype": "text/x-python",
   "name": "python",
   "nbconvert_exporter": "python",
   "pygments_lexer": "ipython2",
   "version": "2.7.12"
  }
 },
 "nbformat": 4,
 "nbformat_minor": 0
}
